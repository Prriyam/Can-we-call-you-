{
 "cells": [
  {
   "cell_type": "code",
   "execution_count": 4,
   "id": "796170f6-8b24-448e-8378-6ad417d818f2",
   "metadata": {},
   "outputs": [],
   "source": [
    "import pandas as pd\n",
    "\n",
    "df_1 = pd.read_csv('Hackathon_Call_Log_Data.csv', dtype={'State -  LOB': str}, encoding='latin-1')\n",
    "\n",
    "\n",
    "df_2 = pd.read_csv('Demographic_Data.csv')"
   ]
  },
  {
   "cell_type": "code",
   "execution_count": 5,
   "id": "5f29db8c-49f2-4678-b9e3-16dda4f2218b",
   "metadata": {},
   "outputs": [],
   "source": [
    "merged_df = pd.merge(df_1, df_2, left_on='REFERRAL_ID', right_on='REF ID', how='right')"
   ]
  },
  {
   "cell_type": "code",
   "execution_count": 6,
   "id": "860eb014-4afb-4eec-97a5-2cb184f572c4",
   "metadata": {},
   "outputs": [
    {
     "name": "stdout",
     "output_type": "stream",
     "text": [
      "Number of rows: 904154\n"
     ]
    }
   ],
   "source": [
    "row_count = len(merged_df)\n",
    "print(\"Number of rows:\", row_count)\n"
   ]
  },
  {
   "cell_type": "code",
   "execution_count": 7,
   "id": "a694633e-a285-46c6-8993-62f2801090bf",
   "metadata": {},
   "outputs": [
    {
     "name": "stdout",
     "output_type": "stream",
     "text": [
      "             CALL ID                  TIMESTAMP CALL TYPE  \\\n",
      "0       2.746010e+05  Thu, 20 Jul 2023 20:32:52  Outbound   \n",
      "1       2.923970e+05  Wed, 26 Jul 2023 21:11:16  Outbound   \n",
      "2       2.745760e+05  Thu, 20 Jul 2023 20:29:21  Outbound   \n",
      "3       2.923710e+05  Wed, 26 Jul 2023 21:06:59  Outbound   \n",
      "4       2.969580e+05  Thu, 27 Jul 2023 21:15:16  Outbound   \n",
      "...              ...                        ...       ...   \n",
      "904149  3.000000e+14   Fri, 5 Jan 2024 17:09:12  Outbound   \n",
      "904150  3.000000e+14  Tue, 16 Jan 2024 20:10:51  Outbound   \n",
      "904151  3.000000e+14   Wed, 3 Jan 2024 15:32:24  Outbound   \n",
      "904152  3.000000e+14   Thu, 4 Jan 2024 20:36:11  Outbound   \n",
      "904153  3.000000e+14  Fri, 12 Jan 2024 19:12:43  Outbound   \n",
      "\n",
      "                                   DISPOSITION TALK TIME AFTER CALL WORK TIME  \\\n",
      "0                               Left Voicemail   0:00:06              0:00:18   \n",
      "1         Spoke with Client - Refused Services   0:01:02              0:00:50   \n",
      "2                            Answering Machine       NaN                  NaN   \n",
      "3                            Answering Machine       NaN                  NaN   \n",
      "4                            Answering Machine       NaN                  NaN   \n",
      "...                                        ...       ...                  ...   \n",
      "904149  Spoke with Client - Callback Requested   0:00:36              0:06:12   \n",
      "904150                               No Answer       NaN                  NaN   \n",
      "904151                          Left Voicemail   0:00:08              0:02:18   \n",
      "904152                       Answering Machine       NaN                  NaN   \n",
      "904153                       Answering Machine       NaN                  NaN   \n",
      "\n",
      "        DAY OF MONTH  HOUR OF DAY DAY OF WEEK    MONTH  ...  REF ID  \\\n",
      "0               20.0         20.0    Thursday     July  ...   39584   \n",
      "1               26.0         21.0   Wednesday     July  ...   39584   \n",
      "2               20.0         20.0    Thursday     July  ...   39585   \n",
      "3               26.0         21.0   Wednesday     July  ...   39585   \n",
      "4               27.0         21.0    Thursday     July  ...   39585   \n",
      "...              ...          ...         ...      ...  ...     ...   \n",
      "904149           5.0         17.0      Friday  January  ...  287012   \n",
      "904150          16.0         20.0     Tuesday  January  ...  287012   \n",
      "904151           3.0         15.0   Wednesday  January  ...  287013   \n",
      "904152           4.0         20.0    Thursday  January  ...  287013   \n",
      "904153          12.0         19.0      Friday  January  ...  287013   \n",
      "\n",
      "           MEMBER ID MEMBER_AGE  MEMBER_GENDER STATE SOLD     COUNTY  ZIPCODE  \\\n",
      "0        CA-C38518-1         69              M         CA  SAN DIEGO  92101.0   \n",
      "1        CA-C38518-1         69              M         CA  SAN DIEGO  92101.0   \n",
      "2        CA-C38519-1         29              M         CA     PLACER  95603.0   \n",
      "3        CA-C38519-1         29              M         CA     PLACER  95603.0   \n",
      "4        CA-C38519-1         29              M         CA     PLACER  95603.0   \n",
      "...              ...        ...            ...        ...        ...      ...   \n",
      "904149  VA-C272306-1         52              M         VA     LOUISA  23024.0   \n",
      "904150  VA-C272306-1         52              M         VA     LOUISA  23024.0   \n",
      "904151  VA-C272307-1         31              F         VA   TAZEWELL  24637.0   \n",
      "904152  VA-C272307-1         31              F         VA   TAZEWELL  24637.0   \n",
      "904153  VA-C272307-1         31              F         VA   TAZEWELL  24637.0   \n",
      "\n",
      "       LOB  REFERRAL_TYPE            MEMBER_LANGUAGE  \n",
      "0        C              M          English (Default)  \n",
      "1        C              M          English (Default)  \n",
      "2        C              M          English (Default)  \n",
      "3        C              M          English (Default)  \n",
      "4        C              M          English (Default)  \n",
      "...     ..            ...                        ...  \n",
      "904149   C              M          English (Default)  \n",
      "904150   C              M          English (Default)  \n",
      "904151   C              M  No linguistic content; NA  \n",
      "904152   C              M  No linguistic content; NA  \n",
      "904153   C              M  No linguistic content; NA  \n",
      "\n",
      "[808086 rows x 28 columns]\n"
     ]
    }
   ],
   "source": [
    "filtered_df = merged_df[merged_df['CALL TYPE'] == 'Outbound']\n",
    "\n",
    "print(filtered_df)"
   ]
  },
  {
   "cell_type": "code",
   "execution_count": 8,
   "id": "9aa418bd-098d-43fa-9969-9491ccde5d51",
   "metadata": {},
   "outputs": [
    {
     "data": {
      "text/plain": [
       "['Abandon',\n",
       " 'Agent Error',\n",
       " 'All Other Call Outcomes',\n",
       " 'Already Enrolled',\n",
       " 'Already Suspended',\n",
       " 'Answering Machine',\n",
       " 'Busy',\n",
       " 'Caller Disconnected',\n",
       " 'Caller HangUp',\n",
       " 'Dial Error',\n",
       " 'Do Not Call',\n",
       " 'Fax',\n",
       " 'Follow Up call',\n",
       " 'Hangup',\n",
       " 'Hardware Timeout',\n",
       " 'Interpreter services - Callback Requested',\n",
       " 'Last Follow Up',\n",
       " 'Left Voicemail',\n",
       " 'Manual Assignment to CC',\n",
       " 'Member Deceased',\n",
       " 'New phone number added in Implify',\n",
       " 'No Active Insurance',\n",
       " 'No Answer',\n",
       " 'Operator Intercept',\n",
       " 'Phone Disconnected',\n",
       " 'Sent To Voicemail',\n",
       " 'Spoke with Client - Callback Requested',\n",
       " 'Spoke with Client - Refused Services',\n",
       " 'Spoke with Representative',\n",
       " 'Successful Contact - Assessment',\n",
       " 'Successful Contact - Visit Schedule',\n",
       " 'Suspended in Implify',\n",
       " 'Transferred To 3rd Party',\n",
       " 'Wrong Number']"
      ]
     },
     "execution_count": 8,
     "metadata": {},
     "output_type": "execute_result"
    }
   ],
   "source": [
    "# Assuming filtered_df is your filtered DataFrame\n",
    "disposition_values = filtered_df['DISPOSITION'].unique()\n",
    "\n",
    "# Sort the unique values alphabetically\n",
    "disposition_values_sorted = sorted(disposition_values)\n",
    "\n",
    "# Display the sorted distinct values\n",
    "disposition_values_sorted"
   ]
  },
  {
   "cell_type": "code",
   "execution_count": 9,
   "id": "1d506b7f-a233-4025-9c3d-67515dbdcdc0",
   "metadata": {},
   "outputs": [
    {
     "name": "stdout",
     "output_type": "stream",
     "text": [
      "             CALL ID                  TIMESTAMP CALL TYPE        DISPOSITION  \\\n",
      "0       2.746010e+05  Thu, 20 Jul 2023 20:32:52  Outbound     Left Voicemail   \n",
      "2       2.745760e+05  Thu, 20 Jul 2023 20:29:21  Outbound  Answering Machine   \n",
      "3       2.923710e+05  Wed, 26 Jul 2023 21:06:59  Outbound  Answering Machine   \n",
      "4       2.969580e+05  Thu, 27 Jul 2023 21:15:16  Outbound  Answering Machine   \n",
      "5       3.419270e+05   Tue, 8 Aug 2023 22:23:03  Outbound  Answering Machine   \n",
      "...              ...                        ...       ...                ...   \n",
      "904148  3.000000e+14   Wed, 3 Jan 2024 17:59:09  Outbound          No Answer   \n",
      "904150  3.000000e+14  Tue, 16 Jan 2024 20:10:51  Outbound          No Answer   \n",
      "904151  3.000000e+14   Wed, 3 Jan 2024 15:32:24  Outbound     Left Voicemail   \n",
      "904152  3.000000e+14   Thu, 4 Jan 2024 20:36:11  Outbound  Answering Machine   \n",
      "904153  3.000000e+14  Fri, 12 Jan 2024 19:12:43  Outbound  Answering Machine   \n",
      "\n",
      "       TALK TIME AFTER CALL WORK TIME  DAY OF MONTH  HOUR OF DAY DAY OF WEEK  \\\n",
      "0        0:00:06              0:00:18          20.0         20.0    Thursday   \n",
      "2            NaN                  NaN          20.0         20.0    Thursday   \n",
      "3            NaN                  NaN          26.0         21.0   Wednesday   \n",
      "4            NaN                  NaN          27.0         21.0    Thursday   \n",
      "5            NaN                  NaN           8.0         22.0     Tuesday   \n",
      "...          ...                  ...           ...          ...         ...   \n",
      "904148       NaN                  NaN           3.0         17.0   Wednesday   \n",
      "904150       NaN                  NaN          16.0         20.0     Tuesday   \n",
      "904151   0:00:08              0:02:18           3.0         15.0   Wednesday   \n",
      "904152       NaN                  NaN           4.0         20.0    Thursday   \n",
      "904153       NaN                  NaN          12.0         19.0      Friday   \n",
      "\n",
      "          MONTH  ...  REF ID     MEMBER ID MEMBER_AGE  MEMBER_GENDER  \\\n",
      "0          July  ...   39584   CA-C38518-1         69              M   \n",
      "2          July  ...   39585   CA-C38519-1         29              M   \n",
      "3          July  ...   39585   CA-C38519-1         29              M   \n",
      "4          July  ...   39585   CA-C38519-1         29              M   \n",
      "5        August  ...   39585   CA-C38519-1         29              M   \n",
      "...         ...  ...     ...           ...        ...            ...   \n",
      "904148  January  ...  287012  VA-C272306-1         52              M   \n",
      "904150  January  ...  287012  VA-C272306-1         52              M   \n",
      "904151  January  ...  287013  VA-C272307-1         31              F   \n",
      "904152  January  ...  287013  VA-C272307-1         31              F   \n",
      "904153  January  ...  287013  VA-C272307-1         31              F   \n",
      "\n",
      "       STATE SOLD     COUNTY  ZIPCODE LOB  REFERRAL_TYPE  \\\n",
      "0              CA  SAN DIEGO  92101.0   C              M   \n",
      "2              CA     PLACER  95603.0   C              M   \n",
      "3              CA     PLACER  95603.0   C              M   \n",
      "4              CA     PLACER  95603.0   C              M   \n",
      "5              CA     PLACER  95603.0   C              M   \n",
      "...           ...        ...      ...  ..            ...   \n",
      "904148         VA     LOUISA  23024.0   C              M   \n",
      "904150         VA     LOUISA  23024.0   C              M   \n",
      "904151         VA   TAZEWELL  24637.0   C              M   \n",
      "904152         VA   TAZEWELL  24637.0   C              M   \n",
      "904153         VA   TAZEWELL  24637.0   C              M   \n",
      "\n",
      "                  MEMBER_LANGUAGE  \n",
      "0               English (Default)  \n",
      "2               English (Default)  \n",
      "3               English (Default)  \n",
      "4               English (Default)  \n",
      "5               English (Default)  \n",
      "...                           ...  \n",
      "904148          English (Default)  \n",
      "904150          English (Default)  \n",
      "904151  No linguistic content; NA  \n",
      "904152  No linguistic content; NA  \n",
      "904153  No linguistic content; NA  \n",
      "\n",
      "[716610 rows x 28 columns]\n"
     ]
    }
   ],
   "source": [
    "specific_dispositions = [\n",
    "    'Spoke with Client - Callback Requested',\n",
    "    'Spoke with Representative',\n",
    "    'Successful Contact - Assessment',\n",
    "    'Successful Contact - Visit Schedule',\n",
    "    'Interpreter services - Callback Requested',\n",
    "    'Spoke with Client - Refused Services',\n",
    "    'Do Not Call',\n",
    "    'Caller HangUp',\n",
    "    'New phone number added in Implify'\n",
    "]\n",
    "\n",
    "# Filter the DataFrame based on specific dispositions\n",
    "filtered_by_disposition = filtered_df[~filtered_df['DISPOSITION'].isin(specific_dispositions)]\n",
    "\n",
    "# Display the filtered DataFrame\n",
    "print(filtered_by_disposition)\n"
   ]
  },
  {
   "cell_type": "code",
   "execution_count": 10,
   "id": "988fd3d4-86e0-4962-a4d2-fa3953aecbee",
   "metadata": {},
   "outputs": [],
   "source": [
    "# Write the filtered DataFrame to a CSV file\n",
    "filtered_by_disposition.to_csv('filtered_data2.csv', index=False)\n"
   ]
  },
  {
   "cell_type": "code",
   "execution_count": 20,
   "id": "1d8fac8d-bf5a-4996-95e7-9946e599f838",
   "metadata": {},
   "outputs": [
    {
     "name": "stdout",
     "output_type": "stream",
     "text": [
      "['CA' 'CO' 'CT' 'GA' 'IN' 'NV' 'OH' 'VA' 'KY' 'MO' 'TX' 'TN' 'WA' 'ME'\n",
      " 'WV' 'NYW' 'WI' 'SC' 'NH' 'NYE' 'AZ' 'FL' 'LA' 'MI' 'AL' 'MA' 'IL' 'NC'\n",
      " 'MD']\n"
     ]
    }
   ],
   "source": [
    "# Fetch unique states from the DataFrame\n",
    "unique_states = filtered_by_disposition['STATE SOLD'].unique()\n",
    "\n",
    "# Display the unique states\n",
    "print(unique_states)\n"
   ]
  },
  {
   "cell_type": "code",
   "execution_count": 32,
   "id": "b06e36d6-0db3-427b-bcf7-4afc185ee0b6",
   "metadata": {},
   "outputs": [
    {
     "name": "stderr",
     "output_type": "stream",
     "text": [
      "C:\\Users\\HP\\AppData\\Local\\Temp\\ipykernel_35836\\157892156.py:50: SettingWithCopyWarning: \n",
      "A value is trying to be set on a copy of a slice from a DataFrame.\n",
      "Try using .loc[row_indexer,col_indexer] = value instead\n",
      "\n",
      "See the caveats in the documentation: https://pandas.pydata.org/pandas-docs/stable/user_guide/indexing.html#returning-a-view-versus-a-copy\n",
      "  filtered_by_disposition['Time Zone'] = filtered_by_disposition.apply(assign_timezone, axis=1)\n"
     ]
    },
    {
     "name": "stdout",
     "output_type": "stream",
     "text": [
      "             CALL ID                  TIMESTAMP CALL TYPE        DISPOSITION  \\\n",
      "0       2.746010e+05  Thu, 20 Jul 2023 20:32:52  Outbound     Left Voicemail   \n",
      "2       2.745760e+05  Thu, 20 Jul 2023 20:29:21  Outbound  Answering Machine   \n",
      "3       2.923710e+05  Wed, 26 Jul 2023 21:06:59  Outbound  Answering Machine   \n",
      "4       2.969580e+05  Thu, 27 Jul 2023 21:15:16  Outbound  Answering Machine   \n",
      "5       3.419270e+05   Tue, 8 Aug 2023 22:23:03  Outbound  Answering Machine   \n",
      "...              ...                        ...       ...                ...   \n",
      "904148  3.000000e+14   Wed, 3 Jan 2024 17:59:09  Outbound          No Answer   \n",
      "904150  3.000000e+14  Tue, 16 Jan 2024 20:10:51  Outbound          No Answer   \n",
      "904151  3.000000e+14   Wed, 3 Jan 2024 15:32:24  Outbound     Left Voicemail   \n",
      "904152  3.000000e+14   Thu, 4 Jan 2024 20:36:11  Outbound  Answering Machine   \n",
      "904153  3.000000e+14  Fri, 12 Jan 2024 19:12:43  Outbound  Answering Machine   \n",
      "\n",
      "       TALK TIME AFTER CALL WORK TIME  DAY OF MONTH  HOUR OF DAY DAY OF WEEK  \\\n",
      "0        0:00:06              0:00:18          20.0         20.0    Thursday   \n",
      "2            NaN                  NaN          20.0         20.0    Thursday   \n",
      "3            NaN                  NaN          26.0         21.0   Wednesday   \n",
      "4            NaN                  NaN          27.0         21.0    Thursday   \n",
      "5            NaN                  NaN           8.0         22.0     Tuesday   \n",
      "...          ...                  ...           ...          ...         ...   \n",
      "904148       NaN                  NaN           3.0         17.0   Wednesday   \n",
      "904150       NaN                  NaN          16.0         20.0     Tuesday   \n",
      "904151   0:00:08              0:02:18           3.0         15.0   Wednesday   \n",
      "904152       NaN                  NaN           4.0         20.0    Thursday   \n",
      "904153       NaN                  NaN          12.0         19.0      Friday   \n",
      "\n",
      "          MONTH  ...     MEMBER ID MEMBER_AGE MEMBER_GENDER  STATE SOLD  \\\n",
      "0          July  ...   CA-C38518-1         69             M          CA   \n",
      "2          July  ...   CA-C38519-1         29             M          CA   \n",
      "3          July  ...   CA-C38519-1         29             M          CA   \n",
      "4          July  ...   CA-C38519-1         29             M          CA   \n",
      "5        August  ...   CA-C38519-1         29             M          CA   \n",
      "...         ...  ...           ...        ...           ...         ...   \n",
      "904148  January  ...  VA-C272306-1         52             M          VA   \n",
      "904150  January  ...  VA-C272306-1         52             M          VA   \n",
      "904151  January  ...  VA-C272307-1         31             F          VA   \n",
      "904152  January  ...  VA-C272307-1         31             F          VA   \n",
      "904153  January  ...  VA-C272307-1         31             F          VA   \n",
      "\n",
      "           COUNTY  ZIPCODE LOB REFERRAL_TYPE            MEMBER_LANGUAGE  \\\n",
      "0       SAN DIEGO  92101.0   C             M          English (Default)   \n",
      "2          PLACER  95603.0   C             M          English (Default)   \n",
      "3          PLACER  95603.0   C             M          English (Default)   \n",
      "4          PLACER  95603.0   C             M          English (Default)   \n",
      "5          PLACER  95603.0   C             M          English (Default)   \n",
      "...           ...      ...  ..           ...                        ...   \n",
      "904148     LOUISA  23024.0   C             M          English (Default)   \n",
      "904150     LOUISA  23024.0   C             M          English (Default)   \n",
      "904151   TAZEWELL  24637.0   C             M  No linguistic content; NA   \n",
      "904152   TAZEWELL  24637.0   C             M  No linguistic content; NA   \n",
      "904153   TAZEWELL  24637.0   C             M  No linguistic content; NA   \n",
      "\n",
      "       Time Zone  \n",
      "0          PSTDT  \n",
      "2          PSTDT  \n",
      "3          PSTDT  \n",
      "4          PSTDT  \n",
      "5          PSTDT  \n",
      "...          ...  \n",
      "904148       EST  \n",
      "904150       EST  \n",
      "904151       EST  \n",
      "904152       EST  \n",
      "904153       EST  \n",
      "\n",
      "[716610 rows x 29 columns]\n"
     ]
    }
   ],
   "source": [
    "import pandas as pd\n",
    "\n",
    "# Define a mapping of state abbreviations to their corresponding time zones\n",
    "state_timezone_mapping = {\n",
    "    'CA': 'PST', 'CO': 'MST', 'CT': 'EST', 'GA': 'EST', 'IN': 'EST', 'NV': 'PST',\n",
    "    'OH': 'EST', 'VA': 'EST', 'KY': 'EST', 'MO': 'CST', 'TX': 'CST', 'TN': 'CST',\n",
    "    'WA': 'PST', 'ME': 'EST', 'WV': 'EST', 'NYW': 'EST', 'WI': 'CST', 'SC': 'EST',\n",
    "    'NH': 'EST', 'NYE': 'EST', 'AZ': 'MST', 'FL': 'EST', 'LA': 'CST', 'MI': 'EST',\n",
    "    'AL': 'CST', 'MA': 'EST', 'IL': 'CST', 'NC': 'EST', 'MD': 'EST'\n",
    "}\n",
    "\n",
    "# Define a mapping of month names to their corresponding numbers\n",
    "month_mapping = {\n",
    "    'January': 1, 'February': 2, 'March': 3, 'April': 4, 'May': 5, 'June': 6,\n",
    "    'July': 7, 'August': 8, 'September': 9, 'October': 10, 'November': 11, 'December': 12\n",
    "}\n",
    "\n",
    "# Define a function to assign the appropriate time zone based on state and month\n",
    "def assign_timezone(row):\n",
    "    state = row['STATE SOLD']\n",
    "    month_name = row['MONTH']\n",
    "    \n",
    "    # If state sold is not available or not in the mapping, return NaN\n",
    "    if pd.isnull(state) or state not in state_timezone_mapping:\n",
    "        return pd.NaT\n",
    "    \n",
    "    # If month is not recognized, return NaN\n",
    "    if month_name not in month_mapping:\n",
    "        return pd.NaT\n",
    "\n",
    "    # Retrieve month number from mapping\n",
    "    month = month_mapping[month_name]\n",
    "    \n",
    "    # Determine whether daylight saving time (DST) is in effect based on the month\n",
    "    is_dst = 3 <= month <= 10  # DST is usually observed from March to October\n",
    "    \n",
    "    # Determine the appropriate time zone abbreviation based on the state\n",
    "    timezone_abbreviation = state_timezone_mapping[state]\n",
    "    \n",
    "    # Append the DST suffix if DST is in effect and the abbreviation does not already have 'DT'\n",
    "    if is_dst and not timezone_abbreviation.endswith('DT'):\n",
    "        timezone_abbreviation += 'DT'\n",
    "    # Append the standard time suffix if standard time is in effect and the abbreviation does not already have 'T'\n",
    "    elif not is_dst and not timezone_abbreviation.endswith('T'):\n",
    "        timezone_abbreviation += 'T'\n",
    "    \n",
    "    return timezone_abbreviation\n",
    "\n",
    "# Apply the function to create the \"Time Zone\" column in filtered_by_disposition DataFrame\n",
    "filtered_by_disposition['Time Zone'] = filtered_by_disposition.apply(assign_timezone, axis=1)\n",
    "\n",
    "print(filtered_by_disposition)\n"
   ]
  },
  {
   "cell_type": "code",
   "execution_count": 34,
   "id": "b43e7dae-e48a-4c3e-a2d1-69f192e86156",
   "metadata": {},
   "outputs": [
    {
     "data": {
      "text/plain": [
       "array(['PSTDT', 'MSTDT', 'ESTDT', 'EST', 'CSTDT', 'CST', 'PST', 'MST'],\n",
       "      dtype=object)"
      ]
     },
     "execution_count": 34,
     "metadata": {},
     "output_type": "execute_result"
    }
   ],
   "source": [
    "(filtered_by_disposition['Time Zone'].unique())"
   ]
  },
  {
   "cell_type": "code",
   "execution_count": 35,
   "id": "ad556bd5-b44b-44c4-888f-6c648535f54f",
   "metadata": {},
   "outputs": [
    {
     "name": "stdout",
     "output_type": "stream",
     "text": [
      "['PDT' 'MDT' 'EDT' 'EST' 'CDT' 'CST' 'PST' 'MST']\n"
     ]
    },
    {
     "name": "stderr",
     "output_type": "stream",
     "text": [
      "C:\\Users\\HP\\AppData\\Local\\Temp\\ipykernel_35836\\514536861.py:2: SettingWithCopyWarning: \n",
      "A value is trying to be set on a copy of a slice from a DataFrame\n",
      "\n",
      "See the caveats in the documentation: https://pandas.pydata.org/pandas-docs/stable/user_guide/indexing.html#returning-a-view-versus-a-copy\n",
      "  filtered_by_disposition['Time Zone'].replace({'PSTT': 'PST', 'ESTT': 'EST', 'ESTDT': 'EDT', 'CSTDT': 'CDT','MSTDT':'MDT','PSTDT': 'PDT'}, inplace=True)\n"
     ]
    }
   ],
   "source": [
    "# Replace incorrect time zone abbreviations with corrected ones\n",
    "filtered_by_disposition['Time Zone'].replace({'PSTT': 'PST', 'ESTT': 'EST', 'ESTDT': 'EDT', 'CSTDT': 'CDT','MSTDT':'MDT','PSTDT': 'PDT'}, inplace=True)\n",
    "\n",
    "# Print out the unique values in the \"Time Zone\" column for verification\n",
    "print(filtered_by_disposition['Time Zone'].unique())\n"
   ]
  },
  {
   "cell_type": "code",
   "execution_count": 36,
   "id": "28251235-4248-4c72-844c-5dc0f31ca30a",
   "metadata": {},
   "outputs": [
    {
     "name": "stderr",
     "output_type": "stream",
     "text": [
      "C:\\Users\\HP\\AppData\\Local\\Temp\\ipykernel_35836\\1172179582.py:3: SettingWithCopyWarning: \n",
      "A value is trying to be set on a copy of a slice from a DataFrame\n",
      "\n",
      "See the caveats in the documentation: https://pandas.pydata.org/pandas-docs/stable/user_guide/indexing.html#returning-a-view-versus-a-copy\n",
      "  filtered_by_disposition.drop(columns=['Time Zone'], inplace=True)\n"
     ]
    },
    {
     "name": "stdout",
     "output_type": "stream",
     "text": [
      "['PSTDT' 'MSTDT' 'ESTDT' 'EST' 'CSTDT' 'CST' 'PST' 'MST']\n"
     ]
    },
    {
     "name": "stderr",
     "output_type": "stream",
     "text": [
      "C:\\Users\\HP\\AppData\\Local\\Temp\\ipykernel_35836\\1172179582.py:52: SettingWithCopyWarning: \n",
      "A value is trying to be set on a copy of a slice from a DataFrame.\n",
      "Try using .loc[row_indexer,col_indexer] = value instead\n",
      "\n",
      "See the caveats in the documentation: https://pandas.pydata.org/pandas-docs/stable/user_guide/indexing.html#returning-a-view-versus-a-copy\n",
      "  filtered_by_disposition['Time Zone'] = filtered_by_disposition.apply(assign_timezone, axis=1)\n"
     ]
    }
   ],
   "source": [
    "# Drop the \"Time Zone\" column if it already exists\n",
    "if 'Time Zone' in filtered_by_disposition.columns:\n",
    "    filtered_by_disposition.drop(columns=['Time Zone'], inplace=True)\n",
    "\n",
    "# Define a function to assign the appropriate time zone based on state and month\n",
    "def assign_timezone(row):\n",
    "    state = row['STATE SOLD']\n",
    "    month_name = row['MONTH']\n",
    "\n",
    "    month_mapping = {\n",
    "    'January': 1,\n",
    "    'February': 2,\n",
    "    'March': 3,\n",
    "    'April': 4,\n",
    "    'May': 5,\n",
    "    'June': 6,\n",
    "    'July': 7,\n",
    "    'August': 8,\n",
    "    'September': 9,\n",
    "    'October': 10,\n",
    "    'November': 11,\n",
    "    'December': 12\n",
    "}\n",
    "    \n",
    "    # If state sold is not available or not in the mapping, return NaN\n",
    "    if pd.isnull(state) or state not in state_timezone_mapping:\n",
    "        return np.nan\n",
    "    \n",
    "    # If month is not recognized, return NaN\n",
    "    if month_name not in month_mapping:\n",
    "        return np.nan\n",
    "\n",
    "    # Retrieve month number from mapping\n",
    "    month = month_mapping[month_name]\n",
    "    \n",
    "    # Determine whether daylight saving time (DST) is in effect based on the month\n",
    "    is_dst = 3 <= month <= 10  # DST is usually observed from March to October\n",
    "    \n",
    "    # Determine the appropriate time zone abbreviation based on the state\n",
    "    timezone_abbreviation = state_timezone_mapping[state]\n",
    "    \n",
    "    # Append the DST suffix if DST is in effect and the abbreviation does not already have 'DT'\n",
    "    if is_dst and not timezone_abbreviation.endswith('DT'):\n",
    "        timezone_abbreviation += 'DT'\n",
    "    # Append the standard time suffix if standard time is in effect and the abbreviation does not already have 'T'\n",
    "    elif not is_dst and not timezone_abbreviation.endswith('T'):\n",
    "        timezone_abbreviation += 'T'\n",
    "    \n",
    "    return timezone_abbreviation\n",
    "\n",
    "# Create the \"Time Zone\" column in filtered_by_disposition\n",
    "filtered_by_disposition['Time Zone'] = filtered_by_disposition.apply(assign_timezone, axis=1)\n",
    "\n",
    "# Print out the unique values in the \"Time Zone\" column for verification\n",
    "print(filtered_by_disposition['Time Zone'].unique())"
   ]
  },
  {
   "cell_type": "code",
   "execution_count": 37,
   "id": "5d7f767c-5497-4165-bd60-2ff079636b21",
   "metadata": {},
   "outputs": [
    {
     "name": "stdout",
     "output_type": "stream",
     "text": [
      "['PDT' 'MDT' 'EDT' 'EST' 'CDT' 'CST' 'PST' 'MST']\n"
     ]
    },
    {
     "name": "stderr",
     "output_type": "stream",
     "text": [
      "C:\\Users\\HP\\AppData\\Local\\Temp\\ipykernel_35836\\514536861.py:2: SettingWithCopyWarning: \n",
      "A value is trying to be set on a copy of a slice from a DataFrame\n",
      "\n",
      "See the caveats in the documentation: https://pandas.pydata.org/pandas-docs/stable/user_guide/indexing.html#returning-a-view-versus-a-copy\n",
      "  filtered_by_disposition['Time Zone'].replace({'PSTT': 'PST', 'ESTT': 'EST', 'ESTDT': 'EDT', 'CSTDT': 'CDT','MSTDT':'MDT','PSTDT': 'PDT'}, inplace=True)\n"
     ]
    }
   ],
   "source": [
    "# Replace incorrect time zone abbreviations with corrected ones\n",
    "filtered_by_disposition['Time Zone'].replace({'PSTT': 'PST', 'ESTT': 'EST', 'ESTDT': 'EDT', 'CSTDT': 'CDT','MSTDT':'MDT','PSTDT': 'PDT'}, inplace=True)\n",
    "\n",
    "# Print out the unique values in the \"Time Zone\" column for verification\n",
    "print(filtered_by_disposition['Time Zone'].unique())\n"
   ]
  },
  {
   "cell_type": "code",
   "execution_count": 38,
   "id": "eb9ae741-6c79-4c6b-a907-6da2ac183391",
   "metadata": {
    "scrolled": true
   },
   "outputs": [
    {
     "name": "stdout",
     "output_type": "stream",
     "text": [
      "[13 14 15 10  9 11 16  8 12 19 17  7  6 18 20  4 22 21  1  3]\n"
     ]
    },
    {
     "name": "stderr",
     "output_type": "stream",
     "text": [
      "C:\\Users\\HP\\AppData\\Local\\Temp\\ipykernel_35836\\920737373.py:42: SettingWithCopyWarning: \n",
      "A value is trying to be set on a copy of a slice from a DataFrame.\n",
      "Try using .loc[row_indexer,col_indexer] = value instead\n",
      "\n",
      "See the caveats in the documentation: https://pandas.pydata.org/pandas-docs/stable/user_guide/indexing.html#returning-a-view-versus-a-copy\n",
      "  filtered_by_disposition['Local Time'] = local_hours\n"
     ]
    }
   ],
   "source": [
    "import pytz\n",
    "from datetime import datetime, timedelta\n",
    "\n",
    "# Define a mapping of time zone abbreviations to UTC offsets in hours\n",
    "timezone_offsets = {\n",
    "    'EDT': -4,\n",
    "    'CDT': -5,\n",
    "    'MDT': -6,\n",
    "    'PDT': -7,\n",
    "    'PST': -8,\n",
    "    'EST': -5,\n",
    "    'CST': -6,\n",
    "    'MST': -7,\n",
    "}\n",
    "\n",
    "# Manually calculate the local hour without using functions\n",
    "local_hours = []\n",
    "for index, row in filtered_by_disposition.iterrows():\n",
    "    hour_of_day = row['HOUR OF DAY']\n",
    "    timezone = row['Time Zone']\n",
    "    \n",
    "    # Handle NaN values in the time zone column\n",
    "    if pd.isnull(timezone):\n",
    "        local_hours.append(pd.NaT)\n",
    "        continue\n",
    "    \n",
    "    # Convert the hour of the day to an integer\n",
    "    hour_of_day = int(hour_of_day)\n",
    "    \n",
    "    # Get the UTC offset for the time zone\n",
    "    utc_offset = timezone_offsets.get(timezone, 0)\n",
    "    \n",
    "    # Calculate the local hour by adding the UTC offset\n",
    "    local_hour = hour_of_day + utc_offset\n",
    "    \n",
    "    # Adjust the local hour to be within the range of 0-23\n",
    "    local_hour = (local_hour + 24) % 24\n",
    "    \n",
    "    local_hours.append(local_hour)\n",
    "\n",
    "# Assign the local hours to the 'Local Time' column\n",
    "filtered_by_disposition['Local Time'] = local_hours\n",
    "\n",
    "# Display the unique values in the 'Local Time' column\n",
    "print(filtered_by_disposition['Local Time'].unique())\n"
   ]
  },
  {
   "cell_type": "code",
   "execution_count": 39,
   "id": "2eb6a89c-1b21-461f-a5f2-387f4e957921",
   "metadata": {},
   "outputs": [
    {
     "name": "stdout",
     "output_type": "stream",
     "text": [
      "             CALL ID                  TIMESTAMP CALL TYPE        DISPOSITION  \\\n",
      "0       2.746010e+05  Thu, 20 Jul 2023 20:32:52  Outbound     Left Voicemail   \n",
      "2       2.745760e+05  Thu, 20 Jul 2023 20:29:21  Outbound  Answering Machine   \n",
      "3       2.923710e+05  Wed, 26 Jul 2023 21:06:59  Outbound  Answering Machine   \n",
      "4       2.969580e+05  Thu, 27 Jul 2023 21:15:16  Outbound  Answering Machine   \n",
      "5       3.419270e+05   Tue, 8 Aug 2023 22:23:03  Outbound  Answering Machine   \n",
      "...              ...                        ...       ...                ...   \n",
      "904148  3.000000e+14   Wed, 3 Jan 2024 17:59:09  Outbound          No Answer   \n",
      "904150  3.000000e+14  Tue, 16 Jan 2024 20:10:51  Outbound          No Answer   \n",
      "904151  3.000000e+14   Wed, 3 Jan 2024 15:32:24  Outbound     Left Voicemail   \n",
      "904152  3.000000e+14   Thu, 4 Jan 2024 20:36:11  Outbound  Answering Machine   \n",
      "904153  3.000000e+14  Fri, 12 Jan 2024 19:12:43  Outbound  Answering Machine   \n",
      "\n",
      "       TALK TIME AFTER CALL WORK TIME  DAY OF MONTH  HOUR OF DAY DAY OF WEEK  \\\n",
      "0        0:00:06              0:00:18          20.0         20.0    Thursday   \n",
      "2            NaN                  NaN          20.0         20.0    Thursday   \n",
      "3            NaN                  NaN          26.0         21.0   Wednesday   \n",
      "4            NaN                  NaN          27.0         21.0    Thursday   \n",
      "5            NaN                  NaN           8.0         22.0     Tuesday   \n",
      "...          ...                  ...           ...          ...         ...   \n",
      "904148       NaN                  NaN           3.0         17.0   Wednesday   \n",
      "904150       NaN                  NaN          16.0         20.0     Tuesday   \n",
      "904151   0:00:08              0:02:18           3.0         15.0   Wednesday   \n",
      "904152       NaN                  NaN           4.0         20.0    Thursday   \n",
      "904153       NaN                  NaN          12.0         19.0      Friday   \n",
      "\n",
      "          MONTH  ...  MEMBER_AGE MEMBER_GENDER STATE SOLD     COUNTY  ZIPCODE  \\\n",
      "0          July  ...          69             M         CA  SAN DIEGO  92101.0   \n",
      "2          July  ...          29             M         CA     PLACER  95603.0   \n",
      "3          July  ...          29             M         CA     PLACER  95603.0   \n",
      "4          July  ...          29             M         CA     PLACER  95603.0   \n",
      "5        August  ...          29             M         CA     PLACER  95603.0   \n",
      "...         ...  ...         ...           ...        ...        ...      ...   \n",
      "904148  January  ...          52             M         VA     LOUISA  23024.0   \n",
      "904150  January  ...          52             M         VA     LOUISA  23024.0   \n",
      "904151  January  ...          31             F         VA   TAZEWELL  24637.0   \n",
      "904152  January  ...          31             F         VA   TAZEWELL  24637.0   \n",
      "904153  January  ...          31             F         VA   TAZEWELL  24637.0   \n",
      "\n",
      "       LOB REFERRAL_TYPE            MEMBER_LANGUAGE  Time Zone Local Time  \n",
      "0        C             M          English (Default)        PDT         13  \n",
      "2        C             M          English (Default)        PDT         13  \n",
      "3        C             M          English (Default)        PDT         14  \n",
      "4        C             M          English (Default)        PDT         14  \n",
      "5        C             M          English (Default)        PDT         15  \n",
      "...     ..           ...                        ...        ...        ...  \n",
      "904148   C             M          English (Default)        EST         12  \n",
      "904150   C             M          English (Default)        EST         15  \n",
      "904151   C             M  No linguistic content; NA        EST         10  \n",
      "904152   C             M  No linguistic content; NA        EST         15  \n",
      "904153   C             M  No linguistic content; NA        EST         14  \n",
      "\n",
      "[716610 rows x 30 columns]\n"
     ]
    }
   ],
   "source": [
    "print(filtered_by_disposition)"
   ]
  },
  {
   "cell_type": "code",
   "execution_count": 40,
   "id": "b351de18-7294-4ae3-baf3-58851a6d4fce",
   "metadata": {},
   "outputs": [],
   "source": [
    "# Write the filtered DataFrame to a CSV file\n",
    "filtered_by_disposition.to_csv('filtered_data3.csv', index=False)\n"
   ]
  }
 ],
 "metadata": {
  "kernelspec": {
   "display_name": "Python 3 (ipykernel)",
   "language": "python",
   "name": "python3"
  },
  "language_info": {
   "codemirror_mode": {
    "name": "ipython",
    "version": 3
   },
   "file_extension": ".py",
   "mimetype": "text/x-python",
   "name": "python",
   "nbconvert_exporter": "python",
   "pygments_lexer": "ipython3",
   "version": "3.11.4"
  }
 },
 "nbformat": 4,
 "nbformat_minor": 5
}
